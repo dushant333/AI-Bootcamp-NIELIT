{
  "nbformat": 4,
  "nbformat_minor": 0,
  "metadata": {
    "colab": {
      "provenance": []
    },
    "kernelspec": {
      "name": "python3",
      "display_name": "Python 3"
    },
    "language_info": {
      "name": "python"
    }
  },
  "cells": [
    {
      "cell_type": "code",
      "execution_count": 1,
      "metadata": {
        "colab": {
          "base_uri": "https://localhost:8080/"
        },
        "id": "F0KSJJLh06PA",
        "outputId": "4b51c792-e928-428b-d345-4123b7017e82"
      },
      "outputs": [
        {
          "output_type": "stream",
          "name": "stdout",
          "text": [
            "The product is: 30\n"
          ]
        }
      ],
      "source": [
        "a = 2\n",
        "b = 15\n",
        "product = a * b\n",
        "print(\"The product is:\", product)\n"
      ]
    }
  ]
}